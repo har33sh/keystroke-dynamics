{
 "cells": [
  {
   "cell_type": "code",
   "execution_count": 1,
   "metadata": {
    "collapsed": false
   },
   "outputs": [],
   "source": [
    "# Imports\n",
    "\n",
    "# pandas\n",
    "import pandas as pd\n",
    "from pandas import Series,DataFrame\n",
    "\n",
    "# numpy, matplotlib, seaborn\n",
    "import numpy as np\n",
    "import matplotlib.pyplot as plt\n",
    "import seaborn as sns\n",
    "sns.set_style('whitegrid')\n",
    "%matplotlib inline\n",
    "\n",
    "# machine learning\n",
    "from sklearn.linear_model import LogisticRegression\n",
    "from sklearn.svm import SVC, LinearSVC\n",
    "from sklearn.ensemble import RandomForestClassifier\n",
    "from sklearn.neighbors import KNeighborsClassifier\n",
    "from sklearn.naive_bayes import GaussianNB\n"
   ]
  },
  {
   "cell_type": "code",
   "execution_count": 2,
   "metadata": {
    "collapsed": false
   },
   "outputs": [],
   "source": [
    "# get test & test csv files as a DataFrame\n",
    "\n",
    "def get_data(learn_percent):\n",
    "    train_df = pd.read_csv(\"../data/PasswordData.csv\")\n",
    "    sep=int(learn_percent*400)\n",
    "    rows=len(train_df)\n",
    "    train_data=DataFrame()\n",
    "    test_data=DataFrame()\n",
    "\n",
    "    for i in range(0,rows,400):\n",
    "        train_data=train_data.append(train_df[i:i+sep])\n",
    "        test_data=test_data.append(train_df[i+sep:i+400])\n",
    "    \n",
    "    return train_data,test_data\n"
   ]
  },
  {
   "cell_type": "code",
   "execution_count": 3,
   "metadata": {
    "collapsed": false
   },
   "outputs": [],
   "source": [
    "train_data,test_data=get_data(0.7)\n",
    "\n",
    "\n",
    "Y_train=train_data[\"subject\"]\n",
    "X_train=train_data.drop(\"subject\",axis=1)\n",
    "\n",
    "Y_test=test_data[\"subject\"]\n",
    "X_test=test_data.drop(\"subject\",axis=1)"
   ]
  },
  {
   "cell_type": "code",
   "execution_count": 9,
   "metadata": {
    "collapsed": false
   },
   "outputs": [
    {
     "name": "stdout",
     "output_type": "stream",
     "text": [
      "Logistic Regression : 0.702777777778\n",
      "Support Vector Machines : 0.0970588235294\n",
      "Random Forests : 0.873366013072\n",
      "K NN Classification : 0.157679738562\n",
      "Gaussian Naive Bayes : 0.57091503268\n"
     ]
    }
   ],
   "source": [
    "# Y_pred = random_forest.predict(X_test)\n",
    "\n",
    "\n",
    "#----------- Logistic Regression------------------\n",
    "Y_test=test_data[\"subject\"]\n",
    "X_test=test_data.drop(\"subject\",axis=1)\n",
    "logreg = LogisticRegression()\n",
    "logreg.fit(X_train, Y_train)\n",
    "print(\"Logistic Regression : \"+ str(logreg.score(X_test, Y_test)))\n",
    "\n",
    "\n",
    "\n",
    "#----------- Support Vector Machines------------------\n",
    "Y_test=test_data[\"subject\"]\n",
    "X_test=test_data.drop(\"subject\",axis=1)\n",
    "svc = SVC()\n",
    "svc.fit(X_train, Y_train)\n",
    "print(\"Support Vector Machines : \"+str(svc.score(X_test, Y_test)))\n",
    "\n",
    "\n",
    "\n",
    "#-----------  Random Forests------------------\n",
    "Y_test=test_data[\"subject\"]\n",
    "X_test=test_data.drop(\"subject\",axis=1)\n",
    "random_forest = RandomForestClassifier(n_estimators=100)\n",
    "random_forest.fit(X_train, Y_train)\n",
    "print(\"Random Forests : \"+str(random_forest.score(X_test, Y_test)))\n",
    "\n",
    "\n",
    "\n",
    "#----------- K NN Classification------------------\n",
    "Y_test=test_data[\"subject\"]\n",
    "X_test=test_data.drop(\"subject\",axis=1)\n",
    "knn = KNeighborsClassifier(n_neighbors = 3)\n",
    "knn.fit(X_train, Y_train)\n",
    "print(\"K NN Classification : \"+str(knn.score(X_test, Y_test)))\n",
    "\n",
    "\n",
    "#-----------  Gaussian Naive Bayes------------------\n",
    "Y_test=test_data[\"subject\"]\n",
    "X_test=test_data.drop(\"subject\",axis=1)\n",
    "gaussian = GaussianNB()\n",
    "gaussian.fit(X_train, Y_train)\n",
    "print(\"Gaussian Naive Bayes : \"+str(gaussian.score(X_test, Y_test)))"
   ]
  },
  {
   "cell_type": "code",
   "execution_count": 12,
   "metadata": {
    "collapsed": false
   },
   "outputs": [
    {
     "data": {
      "text/html": [
       "<div>\n",
       "<table border=\"1\" class=\"dataframe\">\n",
       "  <thead>\n",
       "    <tr style=\"text-align: right;\">\n",
       "      <th></th>\n",
       "      <th>sessionIndex</th>\n",
       "      <th>rep</th>\n",
       "      <th>H.period</th>\n",
       "      <th>DD.period.t</th>\n",
       "      <th>UD.period.t</th>\n",
       "      <th>H.t</th>\n",
       "      <th>DD.t.i</th>\n",
       "      <th>UD.t.i</th>\n",
       "      <th>H.i</th>\n",
       "      <th>DD.i.e</th>\n",
       "      <th>...</th>\n",
       "      <th>H.a</th>\n",
       "      <th>DD.a.n</th>\n",
       "      <th>UD.a.n</th>\n",
       "      <th>H.n</th>\n",
       "      <th>DD.n.l</th>\n",
       "      <th>UD.n.l</th>\n",
       "      <th>H.l</th>\n",
       "      <th>DD.l.Return</th>\n",
       "      <th>UD.l.Return</th>\n",
       "      <th>H.Return</th>\n",
       "    </tr>\n",
       "  </thead>\n",
       "  <tbody>\n",
       "    <tr>\n",
       "      <th>0</th>\n",
       "      <td>1</td>\n",
       "      <td>1</td>\n",
       "      <td>0.1491</td>\n",
       "      <td>0.3979</td>\n",
       "      <td>0.2488</td>\n",
       "      <td>0.1069</td>\n",
       "      <td>0.1674</td>\n",
       "      <td>0.0605</td>\n",
       "      <td>0.1169</td>\n",
       "      <td>0.2212</td>\n",
       "      <td>...</td>\n",
       "      <td>0.1349</td>\n",
       "      <td>0.1484</td>\n",
       "      <td>0.0135</td>\n",
       "      <td>0.0932</td>\n",
       "      <td>0.3515</td>\n",
       "      <td>0.2583</td>\n",
       "      <td>0.1338</td>\n",
       "      <td>0.3509</td>\n",
       "      <td>0.2171</td>\n",
       "      <td>0.0742</td>\n",
       "    </tr>\n",
       "    <tr>\n",
       "      <th>1</th>\n",
       "      <td>1</td>\n",
       "      <td>2</td>\n",
       "      <td>0.1111</td>\n",
       "      <td>0.3451</td>\n",
       "      <td>0.2340</td>\n",
       "      <td>0.0694</td>\n",
       "      <td>0.1283</td>\n",
       "      <td>0.0589</td>\n",
       "      <td>0.0908</td>\n",
       "      <td>0.1357</td>\n",
       "      <td>...</td>\n",
       "      <td>0.1412</td>\n",
       "      <td>0.2558</td>\n",
       "      <td>0.1146</td>\n",
       "      <td>0.1146</td>\n",
       "      <td>0.2642</td>\n",
       "      <td>0.1496</td>\n",
       "      <td>0.0839</td>\n",
       "      <td>0.2756</td>\n",
       "      <td>0.1917</td>\n",
       "      <td>0.0747</td>\n",
       "    </tr>\n",
       "  </tbody>\n",
       "</table>\n",
       "<p>2 rows × 33 columns</p>\n",
       "</div>"
      ],
      "text/plain": [
       "   sessionIndex  rep  H.period  DD.period.t  UD.period.t     H.t  DD.t.i  \\\n",
       "0             1    1    0.1491       0.3979       0.2488  0.1069  0.1674   \n",
       "1             1    2    0.1111       0.3451       0.2340  0.0694  0.1283   \n",
       "\n",
       "   UD.t.i     H.i  DD.i.e    ...        H.a  DD.a.n  UD.a.n     H.n  DD.n.l  \\\n",
       "0  0.0605  0.1169  0.2212    ...     0.1349  0.1484  0.0135  0.0932  0.3515   \n",
       "1  0.0589  0.0908  0.1357    ...     0.1412  0.2558  0.1146  0.1146  0.2642   \n",
       "\n",
       "   UD.n.l     H.l  DD.l.Return  UD.l.Return  H.Return  \n",
       "0  0.2583  0.1338       0.3509       0.2171    0.0742  \n",
       "1  0.1496  0.0839       0.2756       0.1917    0.0747  \n",
       "\n",
       "[2 rows x 33 columns]"
      ]
     },
     "execution_count": 12,
     "metadata": {},
     "output_type": "execute_result"
    }
   ],
   "source": [
    "X_train.head(2)\n",
    "\n"
   ]
  },
  {
   "cell_type": "code",
   "execution_count": null,
   "metadata": {
    "collapsed": true
   },
   "outputs": [],
   "source": [
    "X_train=X_train"
   ]
  }
 ],
 "metadata": {
  "kernelspec": {
   "display_name": "Python 3",
   "language": "python",
   "name": "python3"
  },
  "language_info": {
   "codemirror_mode": {
    "name": "ipython",
    "version": 3
   },
   "file_extension": ".py",
   "mimetype": "text/x-python",
   "name": "python",
   "nbconvert_exporter": "python",
   "pygments_lexer": "ipython3",
   "version": "3.5.2"
  }
 },
 "nbformat": 4,
 "nbformat_minor": 2
}
